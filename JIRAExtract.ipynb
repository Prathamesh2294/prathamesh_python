{
 "cells": [
  {
   "cell_type": "markdown",
   "metadata": {},
   "source": [
    "## Import Libraries "
   ]
  },
  {
   "cell_type": "code",
   "execution_count": 54,
   "metadata": {},
   "outputs": [],
   "source": [
    "import requests\n",
    "import json\n",
    "import pandas as pd\n",
    "import time\n",
    "import datetime"
   ]
  },
  {
   "cell_type": "markdown",
   "metadata": {},
   "source": [
    "## Configurations"
   ]
  },
  {
   "cell_type": "code",
   "execution_count": 55,
   "metadata": {},
   "outputs": [],
   "source": [
    "baseURL='https://id.atlassian.com/login/rest/'\n",
    "loginAPI='auth/1/session'\n",
    "userAPI='api/2/user?username=prathamesh.patil@cactusglobal.com'\n",
    "issuePicker='api/2/issue/picker?currentJQL=assignee%3DNigel'\n",
    "bitExportAPI='getbusinessintelligenceexport/1.0/message'\n",
    "\n",
    "loginUserName= 'prathamesh.patil@cactusglobal.com'\n",
    "loginPassword= 'Pr@thamesh2294'\n",
    "\n",
    "analysisStartDate='01-JAN-20'\n",
    "analysisStartDate='31-JAN-20'\n",
    "\n",
    "exportDirectory='C:\\\\Program Files\\\\Python36\\\\suven\\\\Notebooks\\\\downloads'"
   ]
  },
  {
   "cell_type": "markdown",
   "metadata": {},
   "source": [
    "## Login to Jira"
   ]
  },
  {
   "cell_type": "code",
   "execution_count": 56,
   "metadata": {},
   "outputs": [
    {
     "ename": "Exception",
     "evalue": "POSThttps://id.atlassian.com/login/rest/auth/1/session 405",
     "output_type": "error",
     "traceback": [
      "\u001b[1;31m---------------------------------------------------------------------------\u001b[0m",
      "\u001b[1;31mException\u001b[0m                                 Traceback (most recent call last)",
      "\u001b[1;32m<ipython-input-56-ecee23fb44c1>\u001b[0m in \u001b[0;36m<module>\u001b[1;34m\u001b[0m\n\u001b[0;32m      4\u001b[0m \u001b[1;33m\u001b[0m\u001b[0m\n\u001b[0;32m      5\u001b[0m \u001b[1;32mif\u001b[0m \u001b[0mloginResponse\u001b[0m\u001b[1;33m.\u001b[0m\u001b[0mstatus_code\u001b[0m \u001b[1;33m!=\u001b[0m \u001b[1;36m200\u001b[0m\u001b[1;33m:\u001b[0m\u001b[1;33m\u001b[0m\u001b[1;33m\u001b[0m\u001b[0m\n\u001b[1;32m----> 6\u001b[1;33m     \u001b[1;32mraise\u001b[0m \u001b[0mException\u001b[0m\u001b[1;33m(\u001b[0m\u001b[1;34m'POST'\u001b[0m\u001b[1;33m+\u001b[0m \u001b[0mloginURL\u001b[0m\u001b[1;33m+\u001b[0m \u001b[1;34m' {}'\u001b[0m\u001b[1;33m.\u001b[0m\u001b[0mformat\u001b[0m\u001b[1;33m(\u001b[0m\u001b[0mloginResponse\u001b[0m\u001b[1;33m.\u001b[0m\u001b[0mstatus_code\u001b[0m\u001b[1;33m)\u001b[0m\u001b[1;33m)\u001b[0m\u001b[1;33m\u001b[0m\u001b[1;33m\u001b[0m\u001b[0m\n\u001b[0m\u001b[0;32m      7\u001b[0m \u001b[1;32melse\u001b[0m\u001b[1;33m:\u001b[0m\u001b[1;33m\u001b[0m\u001b[1;33m\u001b[0m\u001b[0m\n\u001b[0;32m      8\u001b[0m     \u001b[0mmyJSessionID\u001b[0m \u001b[1;33m=\u001b[0m \u001b[0mloginResponse\u001b[0m\u001b[1;33m.\u001b[0m\u001b[0mcookies\u001b[0m\u001b[1;33m[\u001b[0m\u001b[1;34m'JSESSIONID'\u001b[0m\u001b[1;33m]\u001b[0m\u001b[1;33m\u001b[0m\u001b[1;33m\u001b[0m\u001b[0m\n",
      "\u001b[1;31mException\u001b[0m: POSThttps://id.atlassian.com/login/rest/auth/1/session 405"
     ]
    }
   ],
   "source": [
    "loginURL=baseURL + loginAPI \n",
    "loginData ={\"username\": loginUserName,\"password\": loginPassword}\n",
    "loginResponse = requests.post(loginURL, json=loginData)\n",
    "\n",
    "if loginResponse.status_code != 200:\n",
    "    raise Exception('POST'+ loginURL+ ' {}'.format(loginResponse.status_code))\n",
    "else:\n",
    "    myJSessionID = loginResponse.cookies['JSESSIONID']\n",
    "print('JSESSIONID'+ myJSessionID)"
   ]
  },
  {
   "cell_type": "code",
   "execution_count": null,
   "metadata": {},
   "outputs": [],
   "source": []
  }
 ],
 "metadata": {
  "kernelspec": {
   "display_name": "Python 3",
   "language": "python",
   "name": "python3"
  },
  "language_info": {
   "codemirror_mode": {
    "name": "ipython",
    "version": 3
   },
   "file_extension": ".py",
   "mimetype": "text/x-python",
   "name": "python",
   "nbconvert_exporter": "python",
   "pygments_lexer": "ipython3",
   "version": "3.6.7"
  }
 },
 "nbformat": 4,
 "nbformat_minor": 2
}
