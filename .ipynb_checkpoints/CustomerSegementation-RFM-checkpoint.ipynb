{
 "cells": [
  {
   "cell_type": "markdown",
   "metadata": {},
   "source": [
    "### Librabries Imported"
   ]
  },
  {
   "cell_type": "code",
   "execution_count": 96,
   "metadata": {},
   "outputs": [],
   "source": [
    "%matplotlib inline\n",
    "import pandas as pd\n",
    "import numpy as np\n",
    "import matplotlib.pyplot as plt"
   ]
  },
  {
   "cell_type": "markdown",
   "metadata": {},
   "source": [
    "### Data Extraction"
   ]
  },
  {
   "cell_type": "markdown",
   "metadata": {},
   "source": [
    "####### Query Used\n",
    "select io.id as invoice_id,od.billing_unit_count as unit_count,io.created_date as invoice_date,od.rate as unit_price,eu.id as customer_id,eu.client_type as customer_type,p.name as partner\n",
    "from orders od\n",
    "join invoice io on io.id=od.invoice_id and io.active=true\n",
    "join enquiry e on od.enquiry_id = e.id and e.active=true\n",
    "join eos_user eu on e.eos_user_id = eu.id and eu.active=true\n",
    "join partner p on eu.partner_id = p.id and p.active=true\n",
    "join file f on f.enquiry_id=e.id and f.active=true\n",
    "where od.active=true\n",
    "and (io.created_date >= '2019-08-01 00:00:00' and io.created_date <= '2019-12-31 23:59:59')\n",
    "group by io.id,io.created_date,od.rate,eu.id,p.name,od.created_date,od.billing_unit_count\n",
    "order by od.created_date desc;"
   ]
  },
  {
   "cell_type": "code",
   "execution_count": 97,
   "metadata": {},
   "outputs": [
    {
     "data": {
      "text/html": [
       "<div>\n",
       "<style scoped>\n",
       "    .dataframe tbody tr th:only-of-type {\n",
       "        vertical-align: middle;\n",
       "    }\n",
       "\n",
       "    .dataframe tbody tr th {\n",
       "        vertical-align: top;\n",
       "    }\n",
       "\n",
       "    .dataframe thead th {\n",
       "        text-align: right;\n",
       "    }\n",
       "</style>\n",
       "<table border=\"1\" class=\"dataframe\">\n",
       "  <thead>\n",
       "    <tr style=\"text-align: right;\">\n",
       "      <th></th>\n",
       "      <th>invoice_id</th>\n",
       "      <th>unit_count</th>\n",
       "      <th>invoice_date</th>\n",
       "      <th>unit_price</th>\n",
       "      <th>customer_id</th>\n",
       "      <th>customer_type</th>\n",
       "      <th>partner</th>\n",
       "      <th>total_price</th>\n",
       "    </tr>\n",
       "  </thead>\n",
       "  <tbody>\n",
       "    <tr>\n",
       "      <th>0</th>\n",
       "      <td>1040364</td>\n",
       "      <td>362</td>\n",
       "      <td>2019-12-31 15:42:38</td>\n",
       "      <td>70.000</td>\n",
       "      <td>10964</td>\n",
       "      <td>individual</td>\n",
       "      <td>KOR</td>\n",
       "      <td>25340.00</td>\n",
       "    </tr>\n",
       "    <tr>\n",
       "      <th>1</th>\n",
       "      <td>1040544</td>\n",
       "      <td>200</td>\n",
       "      <td>2019-12-31 22:53:59</td>\n",
       "      <td>6.000</td>\n",
       "      <td>259217</td>\n",
       "      <td>individual</td>\n",
       "      <td>JPN</td>\n",
       "      <td>1200.00</td>\n",
       "    </tr>\n",
       "    <tr>\n",
       "      <th>2</th>\n",
       "      <td>1040289</td>\n",
       "      <td>749</td>\n",
       "      <td>2019-12-31 14:02:56</td>\n",
       "      <td>120.000</td>\n",
       "      <td>183017</td>\n",
       "      <td>individual</td>\n",
       "      <td>KOR</td>\n",
       "      <td>89880.00</td>\n",
       "    </tr>\n",
       "    <tr>\n",
       "      <th>3</th>\n",
       "      <td>1040925</td>\n",
       "      <td>214</td>\n",
       "      <td>2019-12-31 00:00:00</td>\n",
       "      <td>0.245</td>\n",
       "      <td>287569</td>\n",
       "      <td>corporate</td>\n",
       "      <td>CHN</td>\n",
       "      <td>52.43</td>\n",
       "    </tr>\n",
       "    <tr>\n",
       "      <th>4</th>\n",
       "      <td>1040908</td>\n",
       "      <td>3385</td>\n",
       "      <td>2019-12-31 00:00:00</td>\n",
       "      <td>0.235</td>\n",
       "      <td>276383</td>\n",
       "      <td>corporate</td>\n",
       "      <td>CHN</td>\n",
       "      <td>795.47</td>\n",
       "    </tr>\n",
       "  </tbody>\n",
       "</table>\n",
       "</div>"
      ],
      "text/plain": [
       "   invoice_id  unit_count         invoice_date  unit_price  customer_id  \\\n",
       "0     1040364         362  2019-12-31 15:42:38      70.000        10964   \n",
       "1     1040544         200  2019-12-31 22:53:59       6.000       259217   \n",
       "2     1040289         749  2019-12-31 14:02:56     120.000       183017   \n",
       "3     1040925         214  2019-12-31 00:00:00       0.245       287569   \n",
       "4     1040908        3385  2019-12-31 00:00:00       0.235       276383   \n",
       "\n",
       "  customer_type partner  total_price  \n",
       "0    individual     KOR     25340.00  \n",
       "1    individual     JPN      1200.00  \n",
       "2    individual     KOR     89880.00  \n",
       "3     corporate     CHN        52.43  \n",
       "4     corporate     CHN       795.47  "
      ]
     },
     "execution_count": 97,
     "metadata": {},
     "output_type": "execute_result"
    }
   ],
   "source": [
    "DataFrame= pd.read_csv(\"C:\\\\Program Files\\\\Python36\\\\suven\\\\Notebooks\\\\customer_segmentation.csv\",encoding='unicode_escape')\n",
    "DataFrame.head()"
   ]
  },
  {
   "cell_type": "code",
   "execution_count": 98,
   "metadata": {},
   "outputs": [
    {
     "data": {
      "text/plain": [
       "(89125, 8)"
      ]
     },
     "execution_count": 98,
     "metadata": {},
     "output_type": "execute_result"
    }
   ],
   "source": [
    "DataFrame.shape"
   ]
  },
  {
   "cell_type": "markdown",
   "metadata": {},
   "source": [
    "#### Customer Distribution partner wise "
   ]
  },
  {
   "cell_type": "code",
   "execution_count": 99,
   "metadata": {},
   "outputs": [
    {
     "data": {
      "text/html": [
       "<div>\n",
       "<style scoped>\n",
       "    .dataframe tbody tr th:only-of-type {\n",
       "        vertical-align: middle;\n",
       "    }\n",
       "\n",
       "    .dataframe tbody tr th {\n",
       "        vertical-align: top;\n",
       "    }\n",
       "\n",
       "    .dataframe thead th {\n",
       "        text-align: right;\n",
       "    }\n",
       "</style>\n",
       "<table border=\"1\" class=\"dataframe\">\n",
       "  <thead>\n",
       "    <tr style=\"text-align: right;\">\n",
       "      <th></th>\n",
       "      <th>partner</th>\n",
       "      <th>customer_id</th>\n",
       "    </tr>\n",
       "  </thead>\n",
       "  <tbody>\n",
       "    <tr>\n",
       "      <th>7</th>\n",
       "      <td>JPN</td>\n",
       "      <td>18372</td>\n",
       "    </tr>\n",
       "    <tr>\n",
       "      <th>9</th>\n",
       "      <td>KOR</td>\n",
       "      <td>7377</td>\n",
       "    </tr>\n",
       "    <tr>\n",
       "      <th>1</th>\n",
       "      <td>CHN</td>\n",
       "      <td>6761</td>\n",
       "    </tr>\n",
       "    <tr>\n",
       "      <th>2</th>\n",
       "      <td>ENG</td>\n",
       "      <td>2860</td>\n",
       "    </tr>\n",
       "    <tr>\n",
       "      <th>0</th>\n",
       "      <td>BRL</td>\n",
       "      <td>1510</td>\n",
       "    </tr>\n",
       "    <tr>\n",
       "      <th>17</th>\n",
       "      <td>TWN</td>\n",
       "      <td>1140</td>\n",
       "    </tr>\n",
       "    <tr>\n",
       "      <th>16</th>\n",
       "      <td>TFG</td>\n",
       "      <td>974</td>\n",
       "    </tr>\n",
       "    <tr>\n",
       "      <th>19</th>\n",
       "      <td>WASG</td>\n",
       "      <td>749</td>\n",
       "    </tr>\n",
       "    <tr>\n",
       "      <th>20</th>\n",
       "      <td>WKH</td>\n",
       "      <td>573</td>\n",
       "    </tr>\n",
       "    <tr>\n",
       "      <th>14</th>\n",
       "      <td>SAGEG</td>\n",
       "      <td>286</td>\n",
       "    </tr>\n",
       "    <tr>\n",
       "      <th>18</th>\n",
       "      <td>WASC</td>\n",
       "      <td>275</td>\n",
       "    </tr>\n",
       "    <tr>\n",
       "      <th>8</th>\n",
       "      <td>KINO</td>\n",
       "      <td>227</td>\n",
       "    </tr>\n",
       "    <tr>\n",
       "      <th>12</th>\n",
       "      <td>OSA</td>\n",
       "      <td>225</td>\n",
       "    </tr>\n",
       "    <tr>\n",
       "      <th>15</th>\n",
       "      <td>TFC</td>\n",
       "      <td>210</td>\n",
       "    </tr>\n",
       "    <tr>\n",
       "      <th>5</th>\n",
       "      <td>HDW</td>\n",
       "      <td>140</td>\n",
       "    </tr>\n",
       "    <tr>\n",
       "      <th>13</th>\n",
       "      <td>SAGEC</td>\n",
       "      <td>74</td>\n",
       "    </tr>\n",
       "    <tr>\n",
       "      <th>11</th>\n",
       "      <td>NMO</td>\n",
       "      <td>51</td>\n",
       "    </tr>\n",
       "    <tr>\n",
       "      <th>4</th>\n",
       "      <td>GER</td>\n",
       "      <td>43</td>\n",
       "    </tr>\n",
       "    <tr>\n",
       "      <th>6</th>\n",
       "      <td>IND</td>\n",
       "      <td>30</td>\n",
       "    </tr>\n",
       "    <tr>\n",
       "      <th>3</th>\n",
       "      <td>ENGIN</td>\n",
       "      <td>22</td>\n",
       "    </tr>\n",
       "    <tr>\n",
       "      <th>10</th>\n",
       "      <td>KUP</td>\n",
       "      <td>20</td>\n",
       "    </tr>\n",
       "  </tbody>\n",
       "</table>\n",
       "</div>"
      ],
      "text/plain": [
       "   partner  customer_id\n",
       "7      JPN        18372\n",
       "9      KOR         7377\n",
       "1      CHN         6761\n",
       "2      ENG         2860\n",
       "0      BRL         1510\n",
       "17     TWN         1140\n",
       "16     TFG          974\n",
       "19    WASG          749\n",
       "20     WKH          573\n",
       "14   SAGEG          286\n",
       "18    WASC          275\n",
       "8     KINO          227\n",
       "12     OSA          225\n",
       "15     TFC          210\n",
       "5      HDW          140\n",
       "13   SAGEC           74\n",
       "11     NMO           51\n",
       "4      GER           43\n",
       "6      IND           30\n",
       "3    ENGIN           22\n",
       "10     KUP           20"
      ]
     },
     "execution_count": 99,
     "metadata": {},
     "output_type": "execute_result"
    }
   ],
   "source": [
    "#DataFrame=DataFrame[DataFrame['customer_type']=='individual']\n",
    "cust_data_partner=DataFrame[['customer_id','partner']].drop_duplicates()\n",
    "cust_data_partner.groupby(['partner'])['customer_id'].aggregate('count').reset_index().sort_values('customer_id',ascending=False)"
   ]
  },
  {
   "cell_type": "markdown",
   "metadata": {},
   "source": [
    "#### Keeping Highest performing partner for both retail and corporate "
   ]
  },
  {
   "cell_type": "code",
   "execution_count": 100,
   "metadata": {},
   "outputs": [],
   "source": [
    "DataFrame=DataFrame.query(\"partner=='JPN'\").reset_index(drop=True)"
   ]
  },
  {
   "cell_type": "markdown",
   "metadata": {},
   "source": [
    "#### Check Missing Values in Dataset/DataFrame  "
   ]
  },
  {
   "cell_type": "code",
   "execution_count": 101,
   "metadata": {},
   "outputs": [
    {
     "data": {
      "text/plain": [
       "invoice_id       0\n",
       "unit_count       0\n",
       "invoice_date     0\n",
       "unit_price       0\n",
       "customer_id      0\n",
       "customer_type    0\n",
       "partner          0\n",
       "total_price      0\n",
       "dtype: int64"
      ]
     },
     "execution_count": 101,
     "metadata": {},
     "output_type": "execute_result"
    }
   ],
   "source": [
    "DataFrame.isnull().sum(axis=0)"
   ]
  },
  {
   "cell_type": "markdown",
   "metadata": {},
   "source": [
    "#### Validate the negative value in unit price column "
   ]
  },
  {
   "cell_type": "code",
   "execution_count": 102,
   "metadata": {},
   "outputs": [
    {
     "data": {
      "text/plain": [
       "1"
      ]
     },
     "execution_count": 102,
     "metadata": {},
     "output_type": "execute_result"
    }
   ],
   "source": [
    "DataFrame.unit_count.min()"
   ]
  },
  {
   "cell_type": "markdown",
   "metadata": {},
   "source": [
    "#### Removing Data with unit_price as 0 because it can be a test inq   "
   ]
  },
  {
   "cell_type": "code",
   "execution_count": 103,
   "metadata": {},
   "outputs": [],
   "source": [
    "DataFrame=DataFrame[(DataFrame['unit_count']>0)]"
   ]
  },
  {
   "cell_type": "code",
   "execution_count": 104,
   "metadata": {},
   "outputs": [
    {
     "data": {
      "text/html": [
       "<div>\n",
       "<style scoped>\n",
       "    .dataframe tbody tr th:only-of-type {\n",
       "        vertical-align: middle;\n",
       "    }\n",
       "\n",
       "    .dataframe tbody tr th {\n",
       "        vertical-align: top;\n",
       "    }\n",
       "\n",
       "    .dataframe thead th {\n",
       "        text-align: right;\n",
       "    }\n",
       "</style>\n",
       "<table border=\"1\" class=\"dataframe\">\n",
       "  <thead>\n",
       "    <tr style=\"text-align: right;\">\n",
       "      <th></th>\n",
       "      <th>invoice_id</th>\n",
       "      <th>unit_count</th>\n",
       "      <th>invoice_date</th>\n",
       "      <th>unit_price</th>\n",
       "      <th>customer_id</th>\n",
       "      <th>customer_type</th>\n",
       "      <th>partner</th>\n",
       "      <th>total_price</th>\n",
       "    </tr>\n",
       "  </thead>\n",
       "  <tbody>\n",
       "    <tr>\n",
       "      <th>0</th>\n",
       "      <td>1040544</td>\n",
       "      <td>200</td>\n",
       "      <td>2019-12-31 22:53:59</td>\n",
       "      <td>6.0</td>\n",
       "      <td>259217</td>\n",
       "      <td>individual</td>\n",
       "      <td>JPN</td>\n",
       "      <td>1200.0</td>\n",
       "    </tr>\n",
       "    <tr>\n",
       "      <th>1</th>\n",
       "      <td>1040437</td>\n",
       "      <td>139</td>\n",
       "      <td>2019-12-31 17:12:36</td>\n",
       "      <td>18.0</td>\n",
       "      <td>112272</td>\n",
       "      <td>individual</td>\n",
       "      <td>JPN</td>\n",
       "      <td>2502.0</td>\n",
       "    </tr>\n",
       "    <tr>\n",
       "      <th>2</th>\n",
       "      <td>1040081</td>\n",
       "      <td>364</td>\n",
       "      <td>2019-12-31 10:58:57</td>\n",
       "      <td>12.0</td>\n",
       "      <td>9551</td>\n",
       "      <td>individual</td>\n",
       "      <td>JPN</td>\n",
       "      <td>4368.0</td>\n",
       "    </tr>\n",
       "    <tr>\n",
       "      <th>3</th>\n",
       "      <td>1039912</td>\n",
       "      <td>1</td>\n",
       "      <td>2019-12-30 23:37:54</td>\n",
       "      <td>1.0</td>\n",
       "      <td>596720</td>\n",
       "      <td>corporate</td>\n",
       "      <td>JPN</td>\n",
       "      <td>1.0</td>\n",
       "    </tr>\n",
       "    <tr>\n",
       "      <th>4</th>\n",
       "      <td>1040222</td>\n",
       "      <td>998</td>\n",
       "      <td>2019-12-31 12:44:04</td>\n",
       "      <td>6.0</td>\n",
       "      <td>172039</td>\n",
       "      <td>individual</td>\n",
       "      <td>JPN</td>\n",
       "      <td>5988.0</td>\n",
       "    </tr>\n",
       "  </tbody>\n",
       "</table>\n",
       "</div>"
      ],
      "text/plain": [
       "   invoice_id  unit_count         invoice_date  unit_price  customer_id  \\\n",
       "0     1040544         200  2019-12-31 22:53:59         6.0       259217   \n",
       "1     1040437         139  2019-12-31 17:12:36        18.0       112272   \n",
       "2     1040081         364  2019-12-31 10:58:57        12.0         9551   \n",
       "3     1039912           1  2019-12-30 23:37:54         1.0       596720   \n",
       "4     1040222         998  2019-12-31 12:44:04         6.0       172039   \n",
       "\n",
       "  customer_type partner  total_price  \n",
       "0    individual     JPN       1200.0  \n",
       "1    individual     JPN       2502.0  \n",
       "2    individual     JPN       4368.0  \n",
       "3     corporate     JPN          1.0  \n",
       "4    individual     JPN       5988.0  "
      ]
     },
     "execution_count": 104,
     "metadata": {},
     "output_type": "execute_result"
    }
   ],
   "source": [
    "DataFrame.head()"
   ]
  },
  {
   "cell_type": "markdown",
   "metadata": {},
   "source": [
    "### RFM Modelling Implementation"
   ]
  },
  {
   "cell_type": "markdown",
   "metadata": {},
   "source": [
    "####R=Latest Date-Latest invoice date,F=count of invoice no. of transaction(s),M=sum of Total Amount of each client"
   ]
  },
  {
   "cell_type": "code",
   "execution_count": 105,
   "metadata": {},
   "outputs": [],
   "source": [
    "import datetime as dt"
   ]
  },
  {
   "cell_type": "code",
   "execution_count": 106,
   "metadata": {},
   "outputs": [],
   "source": [
    "DataFrame.invoice_date=DataFrame.invoice_date.str[0:10]\n",
    "DataFrame['invoice_date'] = pd.to_datetime(DataFrame['invoice_date'])\n",
    "DataFrame.head()\n",
    "Latest_date= dt.datetime(2020,1,1)"
   ]
  },
  {
   "cell_type": "code",
   "execution_count": 107,
   "metadata": {},
   "outputs": [
    {
     "data": {
      "text/html": [
       "<div>\n",
       "<style scoped>\n",
       "    .dataframe tbody tr th:only-of-type {\n",
       "        vertical-align: middle;\n",
       "    }\n",
       "\n",
       "    .dataframe tbody tr th {\n",
       "        vertical-align: top;\n",
       "    }\n",
       "\n",
       "    .dataframe thead th {\n",
       "        text-align: right;\n",
       "    }\n",
       "</style>\n",
       "<table border=\"1\" class=\"dataframe\">\n",
       "  <thead>\n",
       "    <tr style=\"text-align: right;\">\n",
       "      <th></th>\n",
       "      <th>customer_id</th>\n",
       "      <th>Regency</th>\n",
       "      <th>Frequency</th>\n",
       "      <th>Monetary</th>\n",
       "    </tr>\n",
       "  </thead>\n",
       "  <tbody>\n",
       "    <tr>\n",
       "      <th>0</th>\n",
       "      <td>45</td>\n",
       "      <td>145</td>\n",
       "      <td>1</td>\n",
       "      <td>40887.0</td>\n",
       "    </tr>\n",
       "    <tr>\n",
       "      <th>1</th>\n",
       "      <td>50</td>\n",
       "      <td>36</td>\n",
       "      <td>1</td>\n",
       "      <td>1482.0</td>\n",
       "    </tr>\n",
       "    <tr>\n",
       "      <th>2</th>\n",
       "      <td>74</td>\n",
       "      <td>84</td>\n",
       "      <td>2</td>\n",
       "      <td>39588.0</td>\n",
       "    </tr>\n",
       "    <tr>\n",
       "      <th>3</th>\n",
       "      <td>86</td>\n",
       "      <td>11</td>\n",
       "      <td>1</td>\n",
       "      <td>3576.0</td>\n",
       "    </tr>\n",
       "    <tr>\n",
       "      <th>4</th>\n",
       "      <td>138</td>\n",
       "      <td>88</td>\n",
       "      <td>1</td>\n",
       "      <td>3960.0</td>\n",
       "    </tr>\n",
       "  </tbody>\n",
       "</table>\n",
       "</div>"
      ],
      "text/plain": [
       "   customer_id  Regency  Frequency  Monetary\n",
       "0           45      145          1   40887.0\n",
       "1           50       36          1    1482.0\n",
       "2           74       84          2   39588.0\n",
       "3           86       11          1    3576.0\n",
       "4          138       88          1    3960.0"
      ]
     },
     "execution_count": 107,
     "metadata": {},
     "output_type": "execute_result"
    }
   ],
   "source": [
    " #RFM Code\n",
    "RFMScores = DataFrame.groupby(['customer_id']).agg({'invoice_date':lambda x:(Latest_date-x.max()).days,'invoice_id':lambda x:len(x),'total_price':lambda x:x.sum()})\n",
    "RFMScores['invoice_date']=RFMScores['invoice_date'].astype(int)\n",
    "RFMScores.rename(columns={'invoice_date':'Regency',\n",
    "                         'invoice_id':'Frequency',\n",
    "                         'total_price':'Monetary'},inplace=True)\n",
    "RFMScores.reset_index().head()"
   ]
  }
 ],
 "metadata": {
  "kernelspec": {
   "display_name": "Python 3",
   "language": "python",
   "name": "python3"
  },
  "language_info": {
   "codemirror_mode": {
    "name": "ipython",
    "version": 3
   },
   "file_extension": ".py",
   "mimetype": "text/x-python",
   "name": "python",
   "nbconvert_exporter": "python",
   "pygments_lexer": "ipython3",
   "version": "3.6.7"
  }
 },
 "nbformat": 4,
 "nbformat_minor": 2
}
