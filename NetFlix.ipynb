{
 "cells": [
  {
   "cell_type": "markdown",
   "metadata": {},
   "source": [
    "#             DATA ANALYSIS OF NETFLIX"
   ]
  },
  {
   "cell_type": "code",
   "execution_count": 13,
   "metadata": {},
   "outputs": [
    {
     "data": {
      "text/plain": [
       "show_id            0\n",
       "type               0\n",
       "title              0\n",
       "director        1969\n",
       "cast             570\n",
       "country          476\n",
       "date_added        11\n",
       "release_year       0\n",
       "rating            10\n",
       "duration           0\n",
       "listed_in          0\n",
       "description        0\n",
       "dtype: int64"
      ]
     },
     "execution_count": 13,
     "metadata": {},
     "output_type": "execute_result"
    }
   ],
   "source": [
    "import pandas as pd\n",
    "dataframe = pd.read_csv(\"C:\\\\Program Files\\\\Python36\\\\suven\\\\Notebooks\\\\netflix_titles.csv\")\n",
    "dataframe.isnull().sum()\n"
   ]
  },
  {
   "cell_type": "code",
   "execution_count": 33,
   "metadata": {},
   "outputs": [
    {
     "name": "stdout",
     "output_type": "stream",
     "text": [
      "6\n",
      "5\n"
     ]
    },
    {
     "data": {
      "text/html": [
       "<div>\n",
       "<style scoped>\n",
       "    .dataframe tbody tr th:only-of-type {\n",
       "        vertical-align: middle;\n",
       "    }\n",
       "\n",
       "    .dataframe tbody tr th {\n",
       "        vertical-align: top;\n",
       "    }\n",
       "\n",
       "    .dataframe thead th {\n",
       "        text-align: right;\n",
       "    }\n",
       "</style>\n",
       "<table border=\"1\" class=\"dataframe\">\n",
       "  <thead>\n",
       "    <tr style=\"text-align: right;\">\n",
       "      <th></th>\n",
       "      <th>show_id</th>\n",
       "      <th>title</th>\n",
       "      <th>cast</th>\n",
       "      <th>rating</th>\n",
       "    </tr>\n",
       "  </thead>\n",
       "  <tbody>\n",
       "    <tr>\n",
       "      <th>13</th>\n",
       "      <td>80182483</td>\n",
       "      <td>Krish Trish and Baltiboy: Battle of Wits</td>\n",
       "      <td>Damandeep Singh Baggan, Smita Malhotra, Baba S...</td>\n",
       "      <td>TV-Y7</td>\n",
       "    </tr>\n",
       "    <tr>\n",
       "      <th>15</th>\n",
       "      <td>80182482</td>\n",
       "      <td>Krish Trish and Baltiboy: Comics of India</td>\n",
       "      <td>Damandeep Singh Baggan, Smita Malhotra, Baba S...</td>\n",
       "      <td>TV-Y7</td>\n",
       "    </tr>\n",
       "    <tr>\n",
       "      <th>16</th>\n",
       "      <td>80182597</td>\n",
       "      <td>Krish Trish and Baltiboy: Oversmartness Never ...</td>\n",
       "      <td>Rishi Gambhir, Smita Malhotra, Deepak Chachra</td>\n",
       "      <td>TV-Y7</td>\n",
       "    </tr>\n",
       "    <tr>\n",
       "      <th>18</th>\n",
       "      <td>80182621</td>\n",
       "      <td>Krish Trish and Baltiboy: The Greatest Trick</td>\n",
       "      <td>Damandeep Singh Baggan, Smita Malhotra, Baba S...</td>\n",
       "      <td>TV-Y7</td>\n",
       "    </tr>\n",
       "    <tr>\n",
       "      <th>1244</th>\n",
       "      <td>80182622</td>\n",
       "      <td>Krish Trish and Baltiboy: Face Your Fears</td>\n",
       "      <td>Tarun Ratnani, Smita Malhotra, Deepak Chachra</td>\n",
       "      <td>TV-Y7</td>\n",
       "    </tr>\n",
       "  </tbody>\n",
       "</table>\n",
       "</div>"
      ],
      "text/plain": [
       "       show_id                                              title  \\\n",
       "13    80182483           Krish Trish and Baltiboy: Battle of Wits   \n",
       "15    80182482          Krish Trish and Baltiboy: Comics of India   \n",
       "16    80182597  Krish Trish and Baltiboy: Oversmartness Never ...   \n",
       "18    80182621       Krish Trish and Baltiboy: The Greatest Trick   \n",
       "1244  80182622          Krish Trish and Baltiboy: Face Your Fears   \n",
       "\n",
       "                                                   cast rating  \n",
       "13    Damandeep Singh Baggan, Smita Malhotra, Baba S...  TV-Y7  \n",
       "15    Damandeep Singh Baggan, Smita Malhotra, Baba S...  TV-Y7  \n",
       "16        Rishi Gambhir, Smita Malhotra, Deepak Chachra  TV-Y7  \n",
       "18    Damandeep Singh Baggan, Smita Malhotra, Baba S...  TV-Y7  \n",
       "1244      Tarun Ratnani, Smita Malhotra, Deepak Chachra  TV-Y7  "
      ]
     },
     "execution_count": 33,
     "metadata": {},
     "output_type": "execute_result"
    }
   ],
   "source": [
    "dataframe[dataframe[\"release_year\"]==2019]\n",
    "concat= pd.concat([dataframe[\"title\"],dataframe[\"type\"]])\n",
    "concat[dataframe[\"type\"]=='Movie']\n",
    "filterdata = dataframe[dataframe['director'].str.contains(\"Tilak Shetty\",na=False)]\n",
    "filterdata[filterdata['type']=='Movie']\n",
    "print(filterdata['show_id'].count())\n",
    "filterdata.drop(filterdata.index[1],inplace=True)\n",
    "print(filterdata['show_id'].count())\n",
    "filterdata[['show_id','title','cast','rating']]"
   ]
  },
  {
   "cell_type": "code",
   "execution_count": null,
   "metadata": {},
   "outputs": [],
   "source": []
  }
 ],
 "metadata": {
  "kernelspec": {
   "display_name": "Python 3",
   "language": "python",
   "name": "python3"
  },
  "language_info": {
   "codemirror_mode": {
    "name": "ipython",
    "version": 3
   },
   "file_extension": ".py",
   "mimetype": "text/x-python",
   "name": "python",
   "nbconvert_exporter": "python",
   "pygments_lexer": "ipython3",
   "version": "3.6.7"
  }
 },
 "nbformat": 4,
 "nbformat_minor": 2
}
