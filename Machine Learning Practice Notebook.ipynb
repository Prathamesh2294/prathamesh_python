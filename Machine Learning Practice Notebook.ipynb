{
 "cells": [
  {
   "cell_type": "markdown",
   "metadata": {},
   "source": [
    "## GradientDescent"
   ]
  },
  {
   "cell_type": "code",
   "execution_count": 35,
   "metadata": {},
   "outputs": [
    {
     "name": "stdout",
     "output_type": "stream",
     "text": [
      "     name  math  cs\n",
      "0   david    92  98\n",
      "1   laura    56  68\n",
      "2  sanjay    88  81\n",
      "3     wei    70  80\n",
      "4    jeff    80  83\n",
      "5   aamir    49  52\n",
      "6  venkat    65  66\n",
      "7   virat    35  30\n",
      "8  arthur    66  68\n",
      "9    paul    67  73\n",
      "['math']\n",
      "['cs']\n",
      "[92 56 88 70 80 49 65 35 66 67]\n",
      "Value of Index [3]\n",
      "(10,)\n",
      "[98 68 81 80 83 52 66 30 68 73]\n",
      "[[92 56 88 70 80 49 65 35 66 67]\n",
      " [98 68 81 80 83 52 66 30 68 73]]\n",
      "[0 1] [4 3]\n",
      "(2, 10)\n",
      "80\n"
     ]
    }
   ],
   "source": [
    "import numpy as np\n",
    "import pandas as pd\n",
    "df= pd.read_csv(\"C:\\\\Program Files\\\\Python36\\\\suven\\\\Notebooks\\\\test_scores.csv\",sep=\",\")\n",
    "print(df)\n",
    "x_reprentation=[\"math\"]\n",
    "y_reprentation=[\"cs\"]\n",
    "print(x_reprentation)\n",
    "print(y_reprentation)\n",
    "array_x=df['math']\n",
    "x = np.array(array_x)\n",
    "i, = np.where(x == 70)\n",
    "print(x)\n",
    "print(\"Value of Index\",i)\n",
    "print(x.shape)\n",
    "array_y=df['cs']\n",
    "y=np.array(array_y)\n",
    "print(y)\n",
    "z=np.array([array_x,array_y])\n",
    "print(z)\n",
    "i,j = np.where(z == 80)\n",
    "print(i,j)\n",
    "print(z.shape)\n",
    "print(z[1][3])"
   ]
  },
  {
   "cell_type": "code",
   "execution_count": null,
   "metadata": {},
   "outputs": [],
   "source": []
  }
 ],
 "metadata": {
  "kernelspec": {
   "display_name": "Python 3",
   "language": "python",
   "name": "python3"
  },
  "language_info": {
   "codemirror_mode": {
    "name": "ipython",
    "version": 3
   },
   "file_extension": ".py",
   "mimetype": "text/x-python",
   "name": "python",
   "nbconvert_exporter": "python",
   "pygments_lexer": "ipython3",
   "version": "3.6.7"
  }
 },
 "nbformat": 4,
 "nbformat_minor": 2
}
